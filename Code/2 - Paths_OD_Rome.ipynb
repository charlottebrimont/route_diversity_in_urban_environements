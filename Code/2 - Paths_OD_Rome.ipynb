{
 "cells": [
  {
   "cell_type": "code",
   "execution_count": null,
   "id": "5580f3a0",
   "metadata": {},
   "outputs": [],
   "source": [
    "from routing_algorithms import *\n",
    "from path_diversity import *\n",
    "from routing_utils import * \n",
    "from nb_paths import *\n",
    "\n",
    "from tqdm import tqdm\n",
    "\n",
    "import sumolib\n",
    "import math\n",
    "import json"
   ]
  },
  {
   "cell_type": "code",
   "execution_count": null,
   "id": "a0e2f52d",
   "metadata": {},
   "outputs": [],
   "source": [
    "rome_net = sumolib.net.readNet('data/road_network/rome_road_network.net.xml')\n",
    "rome_graph = from_sumo_to_igraph_network(rome_net)\n",
    "\n",
    "# Get all edges that are in a circle of radius r\n",
    "rome_center = (41.902782, 12.496366)"
   ]
  },
  {
   "cell_type": "code",
   "execution_count": null,
   "id": "33d64135",
   "metadata": {},
   "outputs": [],
   "source": [
    "with open('data/OD_matrix/dict_mobility_demand_rome.json', 'r') as f:\n",
    "    od_data = json.load(f)"
   ]
  },
  {
   "cell_type": "markdown",
   "id": "fa4a39de",
   "metadata": {},
   "source": [
    "# 500 OD 5000 paths"
   ]
  },
  {
   "cell_type": "code",
   "execution_count": null,
   "id": "1fc504e4",
   "metadata": {
    "scrolled": true
   },
   "outputs": [],
   "source": [
    "df_paths1 = od_matrix_paths(rome_graph, od_data, 200, epsilon=np.arange(.1, 1.1, .1), it=500, nb_paths=10)"
   ]
  },
  {
   "cell_type": "code",
   "execution_count": null,
   "id": "3200f7bc",
   "metadata": {},
   "outputs": [],
   "source": [
    "df_paths1['nb_paths'] = df_paths1['paths'].apply(len)"
   ]
  },
  {
   "cell_type": "code",
   "execution_count": null,
   "id": "a72be6e4",
   "metadata": {},
   "outputs": [],
   "source": [
    "df_paths1.head(2)"
   ]
  },
  {
   "cell_type": "code",
   "execution_count": null,
   "id": "8ce3868b",
   "metadata": {},
   "outputs": [],
   "source": [
    "df_paths1.to_csv(\"data/OD_samples/nb_paths/rome_500_5000_ellipse.csv\")"
   ]
  },
  {
   "cell_type": "markdown",
   "id": "07e4ffd1",
   "metadata": {},
   "source": [
    "# 500 OD 10000 paths"
   ]
  },
  {
   "cell_type": "code",
   "execution_count": null,
   "id": "e69fe727",
   "metadata": {},
   "outputs": [],
   "source": [
    "df_paths2 = od_matrix_paths(rome_graph, od_data, 200, np.arange(.1, 1.1, .1), it=500, nb_paths=20)"
   ]
  },
  {
   "cell_type": "code",
   "execution_count": null,
   "id": "1a774615",
   "metadata": {},
   "outputs": [],
   "source": [
    "df_paths2['nb_paths'] = df_paths2['paths'].apply(len)"
   ]
  },
  {
   "cell_type": "code",
   "execution_count": null,
   "id": "4a5ddbcc",
   "metadata": {},
   "outputs": [],
   "source": [
    "df_paths2.head(2)"
   ]
  },
  {
   "cell_type": "code",
   "execution_count": null,
   "id": "a95bbe05",
   "metadata": {},
   "outputs": [],
   "source": [
    "df_paths2.to_csv(\"data/OD_samples/nb_paths/rome_500_10000_ellipse.csv\")"
   ]
  },
  {
   "cell_type": "markdown",
   "id": "34350b17",
   "metadata": {},
   "source": [
    "# 500 OD 15000 paths"
   ]
  },
  {
   "cell_type": "code",
   "execution_count": null,
   "id": "95822d08",
   "metadata": {},
   "outputs": [],
   "source": [
    "df_paths3 = od_matrix_paths(rome_graph, od_data, 200, np.arange(.1, 1.1, .1), it=750, nb_paths=20)"
   ]
  },
  {
   "cell_type": "code",
   "execution_count": null,
   "id": "d705a440",
   "metadata": {},
   "outputs": [],
   "source": [
    "df_paths3['nb_paths'] = df_paths3['paths'].apply(len)"
   ]
  },
  {
   "cell_type": "code",
   "execution_count": null,
   "id": "1ad4700b",
   "metadata": {},
   "outputs": [],
   "source": [
    "df_paths3.head(2)"
   ]
  },
  {
   "cell_type": "code",
   "execution_count": null,
   "id": "ad59c711",
   "metadata": {},
   "outputs": [],
   "source": [
    "df_paths3.to_csv(\"data/OD_samples/nb_paths/rome_500_15000_ellipse.csv\")"
   ]
  }
 ],
 "metadata": {
  "kernelspec": {
   "display_name": "Python 3 (ipykernel)",
   "language": "python",
   "name": "python3"
  },
  "language_info": {
   "codemirror_mode": {
    "name": "ipython",
    "version": 3
   },
   "file_extension": ".py",
   "mimetype": "text/x-python",
   "name": "python",
   "nbconvert_exporter": "python",
   "pygments_lexer": "ipython3",
   "version": "3.11.1"
  }
 },
 "nbformat": 4,
 "nbformat_minor": 5
}
