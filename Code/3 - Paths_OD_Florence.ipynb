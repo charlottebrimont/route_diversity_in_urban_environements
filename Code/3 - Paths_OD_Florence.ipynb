{
 "cells": [
  {
   "cell_type": "code",
   "execution_count": null,
   "id": "247db827",
   "metadata": {},
   "outputs": [],
   "source": [
    "from routing_algorithms import *\n",
    "from path_diversity import *\n",
    "from routing_utils import * \n",
    "from nb_paths import *\n",
    "\n",
    "from tqdm import tqdm\n",
    "\n",
    "import sumolib\n",
    "import math\n",
    "import json"
   ]
  },
  {
   "cell_type": "code",
   "execution_count": null,
   "id": "23bb9e6a",
   "metadata": {},
   "outputs": [],
   "source": [
    "florence_net = sumolib.net.readNet('data/road_network/florence_road_network.net.xml')\n",
    "florence_graph = from_sumo_to_igraph_network(florence_net)\n",
    "\n",
    "# Get all edges that are in a circle of radius r\n",
    "florence_center = (43.769562, 11.255814)"
   ]
  },
  {
   "cell_type": "code",
   "execution_count": null,
   "id": "aa714d20",
   "metadata": {},
   "outputs": [],
   "source": [
    "with open('data/OD_matrix/dict_mobility_demand_florence.json', 'r') as f:\n",
    "    od_data = json.load(f)"
   ]
  },
  {
   "cell_type": "markdown",
   "id": "67f283a6",
   "metadata": {},
   "source": [
    "# 500 OD 5000 paths"
   ]
  },
  {
   "cell_type": "code",
   "execution_count": null,
   "id": "58f423e7",
   "metadata": {},
   "outputs": [],
   "source": [
    "df_paths1 = od_matrix_paths(florence_graph, od_data, 200, epsilon=np.arange(.1, 1.1, .1), it=500, nb_paths=10)"
   ]
  },
  {
   "cell_type": "code",
   "execution_count": null,
   "id": "d521f52f",
   "metadata": {},
   "outputs": [],
   "source": [
    "df_paths1['nb_paths'] = df_paths1['paths'].apply(len)"
   ]
  },
  {
   "cell_type": "code",
   "execution_count": null,
   "id": "5546926e",
   "metadata": {},
   "outputs": [],
   "source": [
    "df_paths1.head(2)"
   ]
  },
  {
   "cell_type": "code",
   "execution_count": null,
   "id": "abfc0f82",
   "metadata": {},
   "outputs": [],
   "source": [
    "df_paths1.to_csv(\"data/OD_samples/nb_paths/florence_500_5000_ellipse.csv\")"
   ]
  },
  {
   "cell_type": "markdown",
   "id": "d2792d42",
   "metadata": {},
   "source": [
    "# 500 OD 10000 paths"
   ]
  },
  {
   "cell_type": "code",
   "execution_count": null,
   "id": "a717e1ee",
   "metadata": {},
   "outputs": [],
   "source": [
    "df_paths2 = od_matrix_paths(florence_graph, od_data, 200, np.arange(.1, 1.1, .1), it=500, nb_paths=20)"
   ]
  },
  {
   "cell_type": "code",
   "execution_count": null,
   "id": "3b68db37",
   "metadata": {},
   "outputs": [],
   "source": [
    "df_paths2['nb_paths'] = df_paths2['paths'].apply(len)"
   ]
  },
  {
   "cell_type": "code",
   "execution_count": null,
   "id": "6bc2b890",
   "metadata": {},
   "outputs": [],
   "source": [
    "df_paths2.head(2)"
   ]
  },
  {
   "cell_type": "code",
   "execution_count": null,
   "id": "f481631b",
   "metadata": {},
   "outputs": [],
   "source": [
    "df_paths2.to_csv(\"data/OD_samples/nb_paths/florence_500_10000_ellipse.csv\")"
   ]
  },
  {
   "cell_type": "markdown",
   "id": "3954f560",
   "metadata": {},
   "source": [
    "# 500 OD 15000 paths"
   ]
  },
  {
   "cell_type": "code",
   "execution_count": null,
   "id": "5d6f3309",
   "metadata": {},
   "outputs": [],
   "source": [
    "df_paths3 = od_matrix_paths(florence_graph, od_data, 200, np.arange(.1, 1.1, .1), it=750, nb_paths=20)"
   ]
  },
  {
   "cell_type": "code",
   "execution_count": null,
   "id": "7f83ab3f",
   "metadata": {},
   "outputs": [],
   "source": [
    "df_paths3['nb_paths'] = df_paths3['paths'].apply(len)"
   ]
  },
  {
   "cell_type": "code",
   "execution_count": null,
   "id": "52eaeb96",
   "metadata": {},
   "outputs": [],
   "source": [
    "df_paths3.head(2)"
   ]
  },
  {
   "cell_type": "code",
   "execution_count": null,
   "id": "d735399d",
   "metadata": {},
   "outputs": [],
   "source": [
    "df_paths3.to_csv(\"data/OD_samples/nb_paths/florence_500_15000_ellipse.csv\")"
   ]
  }
 ],
 "metadata": {
  "kernelspec": {
   "display_name": "Python 3 (ipykernel)",
   "language": "python",
   "name": "python3"
  },
  "language_info": {
   "codemirror_mode": {
    "name": "ipython",
    "version": 3
   },
   "file_extension": ".py",
   "mimetype": "text/x-python",
   "name": "python",
   "nbconvert_exporter": "python",
   "pygments_lexer": "ipython3",
   "version": "3.11.1"
  }
 },
 "nbformat": 4,
 "nbformat_minor": 5
}
