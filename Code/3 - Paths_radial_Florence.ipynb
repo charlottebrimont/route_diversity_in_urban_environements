{
 "cells": [
  {
   "cell_type": "code",
   "execution_count": null,
   "id": "fdffa203",
   "metadata": {},
   "outputs": [],
   "source": [
    "from routing_algorithms import *\n",
    "from radial_sampling import *\n",
    "from path_diversity import *\n",
    "from routing_utils import *\n",
    "from nb_paths import *\n",
    "\n",
    "from tqdm import tqdm\n",
    "\n",
    "import sumolib\n",
    "import math"
   ]
  },
  {
   "cell_type": "code",
   "execution_count": null,
   "id": "a0e2f52d",
   "metadata": {},
   "outputs": [],
   "source": [
    "florence_net = sumolib.net.readNet('data/road_network/florence_road_network.net.xml')\n",
    "florence_graph = from_sumo_to_igraph_network(florence_net)\n",
    "\n",
    "# Get all edges that are in a circle of radius r\n",
    "florence_center = (43.769562, 11.255814)"
   ]
  },
  {
   "cell_type": "code",
   "execution_count": null,
   "id": "33d64135",
   "metadata": {},
   "outputs": [],
   "source": [
    "od_pairs = fixed_radius(florence_net, florence_center, [1, 2, 5, 10, 15], 36)"
   ]
  },
  {
   "cell_type": "markdown",
   "id": "70d610f9",
   "metadata": {},
   "source": [
    "# 500 OD 5000 paths"
   ]
  },
  {
   "cell_type": "code",
   "execution_count": null,
   "id": "d2137482",
   "metadata": {
    "scrolled": false
   },
   "outputs": [],
   "source": [
    "df_paths1 = radial_paths(florence_graph, od_pairs, 500, epsilon=np.arange(.1, 1.1, .1), it=500, nb_paths=10)"
   ]
  },
  {
   "cell_type": "code",
   "execution_count": null,
   "id": "e07cbf65",
   "metadata": {},
   "outputs": [],
   "source": [
    "df_paths1.head(2)"
   ]
  },
  {
   "cell_type": "code",
   "execution_count": null,
   "id": "b8b38f01",
   "metadata": {},
   "outputs": [],
   "source": [
    "df_paths1.to_csv(\"data/OD_samples/nb_paths/florence_500_5000_radial.csv\")"
   ]
  },
  {
   "cell_type": "markdown",
   "id": "7d80558f",
   "metadata": {},
   "source": [
    "# 500 OD 10000"
   ]
  },
  {
   "cell_type": "code",
   "execution_count": null,
   "id": "47f77e9b",
   "metadata": {},
   "outputs": [],
   "source": [
    "df_paths2 = radial_paths(florence_graph, od_pairs, 500, epsilon=np.arange(.1, 1.1, .1), it=500, nb_paths=20)"
   ]
  },
  {
   "cell_type": "code",
   "execution_count": null,
   "id": "661018a2",
   "metadata": {},
   "outputs": [],
   "source": [
    "df_paths2.head(2)"
   ]
  },
  {
   "cell_type": "code",
   "execution_count": null,
   "id": "a9aee10b",
   "metadata": {},
   "outputs": [],
   "source": [
    "df_paths2.to_csv(\"data/OD_samples/nb_paths/florence_500_10000_radial.csv\")"
   ]
  },
  {
   "cell_type": "markdown",
   "id": "dbeacb10",
   "metadata": {},
   "source": [
    "# 500 OD 15000"
   ]
  },
  {
   "cell_type": "code",
   "execution_count": null,
   "id": "efb53937",
   "metadata": {
    "scrolled": false
   },
   "outputs": [],
   "source": [
    "df_paths3 = radial_paths(florence_graph, od_pairs, 500, epsilon=np.arange(.1, 1.1, .1), it=750, nb_paths=20)"
   ]
  },
  {
   "cell_type": "code",
   "execution_count": null,
   "id": "6bd190f1",
   "metadata": {},
   "outputs": [],
   "source": [
    "df_paths3.head(2)"
   ]
  },
  {
   "cell_type": "code",
   "execution_count": null,
   "id": "f010fbf2",
   "metadata": {},
   "outputs": [],
   "source": [
    "df_paths3.to_csv(\"data/OD_samples/nb_paths/florence_500_15000_radial.csv\")"
   ]
  }
 ],
 "metadata": {
  "kernelspec": {
   "display_name": "Python 3 (ipykernel)",
   "language": "python",
   "name": "python3"
  },
  "language_info": {
   "codemirror_mode": {
    "name": "ipython",
    "version": 3
   },
   "file_extension": ".py",
   "mimetype": "text/x-python",
   "name": "python",
   "nbconvert_exporter": "python",
   "pygments_lexer": "ipython3",
   "version": "3.11.1"
  }
 },
 "nbformat": 4,
 "nbformat_minor": 5
}
