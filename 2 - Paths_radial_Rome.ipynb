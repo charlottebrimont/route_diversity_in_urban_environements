{
 "cells": [
  {
   "cell_type": "code",
   "execution_count": null,
   "id": "c42e275f",
   "metadata": {},
   "outputs": [],
   "source": [
    "from routing_algorithms import *\n",
    "from radial_sampling import *\n",
    "from path_diversity import *\n",
    "from routing_utils import *\n",
    "from nb_paths import *\n",
    "\n",
    "from tqdm import tqdm\n",
    "\n",
    "import sumolib\n",
    "import math"
   ]
  },
  {
   "cell_type": "code",
   "execution_count": null,
   "id": "a0e2f52d",
   "metadata": {},
   "outputs": [],
   "source": [
    "rome_net = sumolib.net.readNet('data/road_network/rome_road_network.net.xml')\n",
    "rome_graph = from_sumo_to_igraph_network(rome_net)\n",
    "\n",
    "# Get all edges that are in a circle of radius r\n",
    "rome_center = (41.902782, 12.496366)"
   ]
  },
  {
   "cell_type": "code",
   "execution_count": null,
   "id": "33d64135",
   "metadata": {},
   "outputs": [],
   "source": [
    "od_pairs = fixed_radius(rome_net, rome_center, [2, 5, 7.5, 10, 12], 15)"
   ]
  },
  {
   "cell_type": "markdown",
   "id": "f295321c",
   "metadata": {},
   "source": [
    "# 500 OD 5000 paths"
   ]
  },
  {
   "cell_type": "code",
   "execution_count": null,
   "id": "4ff63379",
   "metadata": {},
   "outputs": [],
   "source": [
    "df_paths1 = radial_paths(rome_graph, od_pairs, 500, epsilon=np.arange(.1, 1.1, .1), it=500, nb_paths=10)"
   ]
  },
  {
   "cell_type": "code",
   "execution_count": null,
   "id": "c4b576e5",
   "metadata": {},
   "outputs": [],
   "source": [
    "df_paths1.head(2)"
   ]
  },
  {
   "cell_type": "code",
   "execution_count": null,
   "id": "3b9396c6",
   "metadata": {},
   "outputs": [],
   "source": [
    "df_paths1.to_csv(\"data/OD_samples/nb_paths/rome_500_5000_radial.csv\")"
   ]
  },
  {
   "cell_type": "markdown",
   "id": "a1e197a3",
   "metadata": {},
   "source": [
    "# 500 OD 10000"
   ]
  },
  {
   "cell_type": "code",
   "execution_count": null,
   "id": "54992c46",
   "metadata": {},
   "outputs": [],
   "source": [
    "df_paths2 = radial_paths(rome_graph, od_pairs, 500, epsilon=np.arange(.1, 1.1, .1), it=500, nb_paths=20)"
   ]
  },
  {
   "cell_type": "code",
   "execution_count": null,
   "id": "6348b0db",
   "metadata": {},
   "outputs": [],
   "source": [
    "df_paths2.head(2)"
   ]
  },
  {
   "cell_type": "code",
   "execution_count": null,
   "id": "a6378c04",
   "metadata": {},
   "outputs": [],
   "source": [
    "df_paths2.to_csv(\"data/OD_samples/nb_paths/rome_500_10000_radial.csv\")"
   ]
  },
  {
   "cell_type": "markdown",
   "id": "fbcac0bc",
   "metadata": {},
   "source": [
    "# 500 OD 15000"
   ]
  },
  {
   "cell_type": "code",
   "execution_count": null,
   "id": "621f63bb",
   "metadata": {},
   "outputs": [],
   "source": [
    "df_paths3 = radial_paths(rome_graph, od_pairs, 500, epsilon=np.arange(.1, 1.1, .1), it=750, nb_paths=20)"
   ]
  },
  {
   "cell_type": "code",
   "execution_count": null,
   "id": "b526f489",
   "metadata": {},
   "outputs": [],
   "source": [
    "df_paths3.head(2)"
   ]
  },
  {
   "cell_type": "code",
   "execution_count": null,
   "id": "a894af2c",
   "metadata": {},
   "outputs": [],
   "source": [
    "df_paths3.to_csv(\"data/OD_samples/nb_paths/rome_500_15000_radial.csv\")"
   ]
  }
 ],
 "metadata": {
  "kernelspec": {
   "display_name": "Python 3 (ipykernel)",
   "language": "python",
   "name": "python3"
  },
  "language_info": {
   "codemirror_mode": {
    "name": "ipython",
    "version": 3
   },
   "file_extension": ".py",
   "mimetype": "text/x-python",
   "name": "python",
   "nbconvert_exporter": "python",
   "pygments_lexer": "ipython3",
   "version": "3.11.1"
  }
 },
 "nbformat": 4,
 "nbformat_minor": 5
}
